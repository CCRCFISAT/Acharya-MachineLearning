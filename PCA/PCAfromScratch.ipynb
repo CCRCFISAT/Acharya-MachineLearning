{
  "nbformat": 4,
  "nbformat_minor": 0,
  "metadata": {
    "colab": {
      "name": "PCAfromScratch.ipynb",
      "provenance": []
    },
    "kernelspec": {
      "name": "python3",
      "display_name": "Python 3"
    }
  },
  "cells": [
    {
      "cell_type": "markdown",
      "metadata": {
        "id": "lRn2DKkeNurP"
      },
      "source": [
        "PCA\n",
        "\n",
        "---\n",
        "\n",
        "First lets discuss the steps in PCA\n",
        "\n",
        "\n",
        "\n",
        "1.   Get Data\n",
        "2.   Normalize the data\n",
        "3.   Subtract the mean\n",
        "4.   Calculate the covariance matrix\n",
        "5.   Calculate eigen values and eigen vectors\n",
        "6.   Choose components and feature vector\n",
        "7.   Derive the new dataset\n",
        "\n",
        "Here I am using IPL 2018 dataset. \n",
        "\n",
        "\n",
        "<table><tbody><tr><td><strong>Slno </strong></td><td><strong> Name </strong></td><td> <strong>Runs (x) </strong></td><td><strong> Average(y) </strong></td></tr><tr><td>\n",
        "1</td><td>Kane Williamson </td><td>735</td><td>52.5</td></tr><tr><td>\n",
        "2</td><td>Rishabh Pant </td><td>684</td><td>52.61</td></tr><tr><td>\n",
        "3</td><td>Lokesh Rahul </td><td>659</td><td>54.91</td></tr><tr><td>\n",
        "4</td><td>Ambati Rayudu </td><td>602</td><td>43</td></tr><tr><td>\n",
        "5</td><td>Shane Watson </td><td>555</td><td>39.64</td></tr><tr><td>\n",
        "6</td><td>Jos Buttler </td><td>548</td><td>54.8</td></tr><tr><td>\n",
        "7</td><td>Virat Kohli </td><td>530</td><td>48.18</td></tr><tr><td>\n",
        "8</td><td>Suryakumar Yadav </td><td>512</td><td>36.57</td></tr><tr><td>\n",
        "9</td><td>Dinesh Karthik </td><td>498</td><td>49.8</td></tr><tr><td>\n",
        "10</td><td>Shikhar Dhawan </td><td>497</td><td>38.23</td></tr></tbody></table>\n",
        "\n",
        "\n",
        "\n",
        "\n"
      ]
    },
    {
      "cell_type": "code",
      "metadata": {
        "id": "W7-AkbPNQQTL"
      },
      "source": [
        "from numpy import array\n",
        "from numpy import mean\n",
        "from numpy import cov\n",
        "from numpy.linalg import eig\n",
        "import numpy as np"
      ],
      "execution_count": 13,
      "outputs": []
    },
    {
      "cell_type": "markdown",
      "metadata": {
        "id": "Ys9AQjE-QYNy"
      },
      "source": [
        "1. Get Data"
      ]
    },
    {
      "cell_type": "code",
      "metadata": {
        "id": "tFq71k0-QQxo",
        "outputId": "9fe5b8ec-e6ec-4cea-f0b6-bf8bb83655c8",
        "colab": {
          "base_uri": "https://localhost:8080/",
          "height": 187
        }
      },
      "source": [
        "data = array([[735,52.5],[684,52.61],[659,54.91],[602,43],[555,39.64],[548,54.8],[530,48.18],[512,36.57],[498,49.8],[497,38.23]])\n",
        "data"
      ],
      "execution_count": 14,
      "outputs": [
        {
          "output_type": "execute_result",
          "data": {
            "text/plain": [
              "array([[735.  ,  52.5 ],\n",
              "       [684.  ,  52.61],\n",
              "       [659.  ,  54.91],\n",
              "       [602.  ,  43.  ],\n",
              "       [555.  ,  39.64],\n",
              "       [548.  ,  54.8 ],\n",
              "       [530.  ,  48.18],\n",
              "       [512.  ,  36.57],\n",
              "       [498.  ,  49.8 ],\n",
              "       [497.  ,  38.23]])"
            ]
          },
          "metadata": {
            "tags": []
          },
          "execution_count": 14
        }
      ]
    },
    {
      "cell_type": "markdown",
      "metadata": {
        "id": "0-uH2qOOQXfY"
      },
      "source": [
        "2. Normalize data"
      ]
    },
    {
      "cell_type": "code",
      "metadata": {
        "id": "uz_OSMoMQhSL",
        "outputId": "ef7ce873-c90e-4668-aff1-17a4e15a4d4e",
        "colab": {
          "base_uri": "https://localhost:8080/",
          "height": 187
        }
      },
      "source": [
        "def scale_linear_bycolumn(rawpoints, high=100.0, low=0.0):\n",
        "    mins = np.min(rawpoints, axis=0)\n",
        "    maxs = np.max(rawpoints, axis=0)\n",
        "    rng = maxs - mins\n",
        "    return high - (((high - low) * (maxs - rawpoints)) / rng)\n",
        "scaled_data=scale_linear_bycolumn(data)\n",
        "scaled_data"
      ],
      "execution_count": 15,
      "outputs": [
        {
          "output_type": "execute_result",
          "data": {
            "text/plain": [
              "array([[100.        ,  86.85932388],\n",
              "       [ 78.57142857,  87.45910578],\n",
              "       [ 68.06722689, 100.        ],\n",
              "       [ 44.11764706,  35.05997819],\n",
              "       [ 24.3697479 ,  16.7393675 ],\n",
              "       [ 21.42857143,  99.4002181 ],\n",
              "       [ 13.86554622,  63.304253  ],\n",
              "       [  6.30252101,   0.        ],\n",
              "       [  0.42016807,  72.13740458],\n",
              "       [  0.        ,   9.05125409]])"
            ]
          },
          "metadata": {
            "tags": []
          },
          "execution_count": 15
        }
      ]
    },
    {
      "cell_type": "markdown",
      "metadata": {
        "id": "qvGHI8gNS2QU"
      },
      "source": [
        "3. Subtract the mean"
      ]
    },
    {
      "cell_type": "code",
      "metadata": {
        "id": "jbiBtFo7ShVC",
        "outputId": "f3f860be-13ee-4c9f-acab-78bf8e51ab27",
        "colab": {
          "base_uri": "https://localhost:8080/",
          "height": 187
        }
      },
      "source": [
        "m = mean(scaled_data.T, axis=1)\n",
        "m\n",
        "mean_data= scaled_data - m\n",
        "scaled_data"
      ],
      "execution_count": 16,
      "outputs": [
        {
          "output_type": "execute_result",
          "data": {
            "text/plain": [
              "array([[100.        ,  86.85932388],\n",
              "       [ 78.57142857,  87.45910578],\n",
              "       [ 68.06722689, 100.        ],\n",
              "       [ 44.11764706,  35.05997819],\n",
              "       [ 24.3697479 ,  16.7393675 ],\n",
              "       [ 21.42857143,  99.4002181 ],\n",
              "       [ 13.86554622,  63.304253  ],\n",
              "       [  6.30252101,   0.        ],\n",
              "       [  0.42016807,  72.13740458],\n",
              "       [  0.        ,   9.05125409]])"
            ]
          },
          "metadata": {
            "tags": []
          },
          "execution_count": 16
        }
      ]
    },
    {
      "cell_type": "markdown",
      "metadata": {
        "id": "0LcrCJ3mTYgR"
      },
      "source": [
        "4. compute covaraince matrix"
      ]
    },
    {
      "cell_type": "code",
      "metadata": {
        "id": "x9Mml186TDlF",
        "outputId": "a9dee6a3-e41d-46ce-df1a-d5fdb327e780",
        "colab": {
          "base_uri": "https://localhost:8080/",
          "height": 51
        }
      },
      "source": [
        "covariance=cov(mean_data.T)\n",
        "covariance"
      ],
      "execution_count": 17,
      "outputs": [
        {
          "output_type": "execute_result",
          "data": {
            "text/plain": [
              "array([[1253.67794176,  777.74112189],\n",
              "       [ 777.74112189, 1487.26275274]])"
            ]
          },
          "metadata": {
            "tags": []
          },
          "execution_count": 17
        }
      ]
    },
    {
      "cell_type": "markdown",
      "metadata": {
        "id": "oFeDZBxrTqCR"
      },
      "source": [
        "5. Compute eigen  values and vectors"
      ]
    },
    {
      "cell_type": "code",
      "metadata": {
        "id": "L3Pu45OtTiQ7",
        "outputId": "fe9c747b-bf7b-4d3c-af1a-af4b20d47b72",
        "colab": {
          "base_uri": "https://localhost:8080/",
          "height": 102
        }
      },
      "source": [
        "values, vectors = eig(covariance)\n",
        "print(\"vectors\")\n",
        "print(vectors)\n",
        "print(\"eigen values\")\n",
        "print(values)"
      ],
      "execution_count": 18,
      "outputs": [
        {
          "output_type": "stream",
          "text": [
            "vectors\n",
            "[[-0.75779405 -0.65249381]\n",
            " [ 0.65249381 -0.75779405]]\n",
            "eigen values\n",
            "[ 584.00882965 2156.93186485]\n"
          ],
          "name": "stdout"
        }
      ]
    },
    {
      "cell_type": "markdown",
      "metadata": {
        "id": "gu00hbhFT1fu"
      },
      "source": [
        "9. Choose components and form feature vectors"
      ]
    },
    {
      "cell_type": "code",
      "metadata": {
        "id": "RP5ITuC6Tx4L",
        "outputId": "5c5dc3f0-db42-436d-f69e-8770a6bc4714",
        "colab": {
          "base_uri": "https://localhost:8080/",
          "height": 187
        }
      },
      "source": [
        "P = vectors.T.dot(mean_data.T)\n",
        "P.T"
      ],
      "execution_count": 19,
      "outputs": [
        {
          "output_type": "execute_result",
          "data": {
            "text/plain": [
              "array([[-29.23301937, -64.57242244],\n",
              "       [-12.60322143, -51.04492333],\n",
              "       [  3.53965601, -53.69441177],\n",
              "       [-20.68445727,  11.14370312],\n",
              "       [-17.67370187,  37.91233494],\n",
              "       [ 38.49079772, -22.8084665 ],\n",
              "       [ 20.66961935,   9.47966829],\n",
              "       [-14.90479852,  62.38608181],\n",
              "       [ 36.62202368,  11.55898462],\n",
              "       [ -4.2228983 ,  59.63945126]])"
            ]
          },
          "metadata": {
            "tags": []
          },
          "execution_count": 19
        }
      ]
    }
  ]
}