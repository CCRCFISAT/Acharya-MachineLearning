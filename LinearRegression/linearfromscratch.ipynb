{
  "nbformat": 4,
  "nbformat_minor": 0,
  "metadata": {
    "colab": {
      "name": "linearfromscratch.ipynb",
      "provenance": []
    },
    "kernelspec": {
      "name": "python3",
      "display_name": "Python 3"
    }
  },
  "cells": [
    {
      "cell_type": "markdown",
      "metadata": {
        "id": "tfw-Vtb-SJg6"
      },
      "source": [
        "Lets Build Linear Regression from Scratch\n",
        "\n",
        "\n",
        "---\n",
        "\n",
        "Linear Regression predicts the value of variable Y from the varaible X.  Here,  X is independent varaible and Y is dependent varaible.\n",
        "\n",
        "\n",
        "Our objective predict the value of Y.\n",
        "\n",
        "We can make use of the following equation to predict the value of Y. So, our task of prediction is reduced to find the values of X and Y.\n",
        "\n",
        "\n",
        "\n",
        "Y= Alpha + Beta * X"
      ]
    },
    {
      "cell_type": "markdown",
      "metadata": {
        "id": "LBdfFEHNQcrA"
      },
      "source": [
        ""
      ]
    },
    {
      "cell_type": "code",
      "metadata": {
        "id": "P_MK1NYaP_0-"
      },
      "source": [
        "import numpy as np"
      ],
      "execution_count": 2,
      "outputs": []
    },
    {
      "cell_type": "markdown",
      "metadata": {
        "id": "37YfeHya6Vs9"
      },
      "source": [
        "Lets give some values for X and Y."
      ]
    },
    {
      "cell_type": "code",
      "metadata": {
        "id": "9KN55nFVSSEv"
      },
      "source": [
        "X= np.array([1,2,3,4,5])\n",
        "Y=np.array([6,7,8,9,10])"
      ],
      "execution_count": 3,
      "outputs": []
    },
    {
      "cell_type": "markdown",
      "metadata": {
        "id": "He5QVB3XVICy"
      },
      "source": [
        "Lets Compute the value of Beta from the given data.\n",
        "\n",
        "\n",
        "Beta = cov(X,Y) /var(x)\n",
        "\n",
        "First lets compute the value of cov(X,Y)\n"
      ]
    },
    {
      "cell_type": "code",
      "metadata": {
        "id": "GoQ39Pj_U3lG",
        "outputId": "c90fb5db-f454-427c-f53a-432f068fca67",
        "colab": {
          "base_uri": "https://localhost:8080/",
          "height": 34
        }
      },
      "source": [
        "cov=(X-X.mean())*(Y-Y.mean())\n",
        "cov"
      ],
      "execution_count": 4,
      "outputs": [
        {
          "output_type": "execute_result",
          "data": {
            "text/plain": [
              "array([4., 1., 0., 1., 4.])"
            ]
          },
          "metadata": {
            "tags": []
          },
          "execution_count": 4
        }
      ]
    },
    {
      "cell_type": "markdown",
      "metadata": {
        "id": "zvsz6oBn6zBp"
      },
      "source": [
        "Lets compute the value of var(X)."
      ]
    },
    {
      "cell_type": "code",
      "metadata": {
        "id": "4Vq2QrMEWdv7",
        "outputId": "c28a43f1-46e4-4e84-b1d5-1ec36d9b8f4e",
        "colab": {
          "base_uri": "https://localhost:8080/",
          "height": 34
        }
      },
      "source": [
        "var=(X-X.mean())**2\n",
        "var"
      ],
      "execution_count": 5,
      "outputs": [
        {
          "output_type": "execute_result",
          "data": {
            "text/plain": [
              "array([4., 1., 0., 1., 4.])"
            ]
          },
          "metadata": {
            "tags": []
          },
          "execution_count": 5
        }
      ]
    },
    {
      "cell_type": "markdown",
      "metadata": {
        "id": "lpZz6FP465_d"
      },
      "source": [
        "Now, we can compute the value of beta."
      ]
    },
    {
      "cell_type": "code",
      "metadata": {
        "id": "qQK9ZuhxWvYN"
      },
      "source": [
        "beta=cov.sum()/var.sum()"
      ],
      "execution_count": 6,
      "outputs": []
    },
    {
      "cell_type": "code",
      "metadata": {
        "id": "jSrNYmwyW1xq",
        "outputId": "c0c6ebbe-c1b8-4b59-9e4b-a409e7c18088",
        "colab": {
          "base_uri": "https://localhost:8080/",
          "height": 34
        }
      },
      "source": [
        "beta\n"
      ],
      "execution_count": 7,
      "outputs": [
        {
          "output_type": "execute_result",
          "data": {
            "text/plain": [
              "1.0"
            ]
          },
          "metadata": {
            "tags": []
          },
          "execution_count": 7
        }
      ]
    },
    {
      "cell_type": "markdown",
      "metadata": {
        "id": "YTYq5ORq7H38"
      },
      "source": [
        "Now, we have got the value of beta. We can compute the value of alpha."
      ]
    },
    {
      "cell_type": "code",
      "metadata": {
        "id": "ffwFgXAnW3mN",
        "outputId": "1da5a95a-4120-4b32-8ff5-1f9242e27d10",
        "colab": {
          "base_uri": "https://localhost:8080/",
          "height": 34
        }
      },
      "source": [
        "alpha= Y.mean() - (beta* X.mean())\n",
        "alpha"
      ],
      "execution_count": 8,
      "outputs": [
        {
          "output_type": "execute_result",
          "data": {
            "text/plain": [
              "5.0"
            ]
          },
          "metadata": {
            "tags": []
          },
          "execution_count": 8
        }
      ]
    },
    {
      "cell_type": "markdown",
      "metadata": {
        "id": "u3EAwegL7aPP"
      },
      "source": [
        "Now, lets predict the value for a sample varaiable"
      ]
    },
    {
      "cell_type": "code",
      "metadata": {
        "id": "V_HTbyM4XELv",
        "outputId": "340e870b-6945-4f70-8a43-813bdad94512",
        "colab": {
          "base_uri": "https://localhost:8080/",
          "height": 34
        }
      },
      "source": [
        "y=alpha+beta*5\n",
        "y"
      ],
      "execution_count": 9,
      "outputs": [
        {
          "output_type": "execute_result",
          "data": {
            "text/plain": [
              "10.0"
            ]
          },
          "metadata": {
            "tags": []
          },
          "execution_count": 9
        }
      ]
    }
  ]
}