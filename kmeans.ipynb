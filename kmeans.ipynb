{
  "nbformat": 4,
  "nbformat_minor": 0,
  "metadata": {
    "colab": {
      "name": "kmeans.ipynb",
      "provenance": []
    },
    "kernelspec": {
      "name": "python3",
      "display_name": "Python 3"
    }
  },
  "cells": [
    {
      "cell_type": "markdown",
      "metadata": {
        "id": "LVp8cTmUsnph"
      },
      "source": [
        "K-Means Clustering algorithm"
      ]
    },
    {
      "cell_type": "markdown",
      "metadata": {
        "id": "StC0mLcXsuKD"
      },
      "source": [
        "Loading numpy and Kmeans function from sklearn"
      ]
    },
    {
      "cell_type": "code",
      "metadata": {
        "id": "N_QYT24GskvH"
      },
      "source": [
        "from sklearn.cluster import KMeans\n",
        "import numpy as np\n"
      ],
      "execution_count": 1,
      "outputs": []
    },
    {
      "cell_type": "markdown",
      "metadata": {
        "id": "bNt24QWys3cJ"
      },
      "source": [
        "Creating input array"
      ]
    },
    {
      "cell_type": "code",
      "metadata": {
        "id": "V1jqogHFs0Sz"
      },
      "source": [
        "X = np.array([[1, 1], [1, 2], [1, 0],\n",
        "               [10, 3], [10, 4], [10, 1]])\n"
      ],
      "execution_count": 2,
      "outputs": []
    },
    {
      "cell_type": "markdown",
      "metadata": {
        "id": "IoL0HwC5tDTS"
      },
      "source": [
        "Calling K-Means algorithm"
      ]
    },
    {
      "cell_type": "code",
      "metadata": {
        "id": "BsRbfX_2s_W3",
        "outputId": "e4e115a7-45a2-4481-9326-236fd834499f",
        "colab": {
          "base_uri": "https://localhost:8080/"
        }
      },
      "source": [
        "kmeans = KMeans(n_clusters=2, random_state=0).fit(X)\n",
        "kmeans.labels_\n",
        "\n"
      ],
      "execution_count": 4,
      "outputs": [
        {
          "output_type": "execute_result",
          "data": {
            "text/plain": [
              "array([1, 1, 1, 0, 0, 0], dtype=int32)"
            ]
          },
          "metadata": {
            "tags": []
          },
          "execution_count": 4
        }
      ]
    },
    {
      "cell_type": "markdown",
      "metadata": {
        "id": "XXg0yiohtMh1"
      },
      "source": [
        "Now lets try to predict with K-Means"
      ]
    },
    {
      "cell_type": "markdown",
      "metadata": {
        "id": "ddh4huGOtLKQ"
      },
      "source": [
        ""
      ]
    },
    {
      "cell_type": "code",
      "metadata": {
        "id": "4BkWyUkEtIA8",
        "outputId": "6d6dd14c-9ebe-4308-cf5b-71b0337367fc",
        "colab": {
          "base_uri": "https://localhost:8080/"
        }
      },
      "source": [
        "kmeans.predict([[0, 1], [11, 3]])\n",
        "kmeans.cluster_centers_\n"
      ],
      "execution_count": 5,
      "outputs": [
        {
          "output_type": "execute_result",
          "data": {
            "text/plain": [
              "array([[10.        ,  2.66666667],\n",
              "       [ 1.        ,  1.        ]])"
            ]
          },
          "metadata": {
            "tags": []
          },
          "execution_count": 5
        }
      ]
    }
  ]
}