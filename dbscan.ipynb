{
  "nbformat": 4,
  "nbformat_minor": 0,
  "metadata": {
    "colab": {
      "name": "dbscan.ipynb",
      "provenance": []
    },
    "kernelspec": {
      "name": "python3",
      "display_name": "Python 3"
    }
  },
  "cells": [
    {
      "cell_type": "markdown",
      "metadata": {
        "id": "LVp8cTmUsnph"
      },
      "source": [
        "DBSCAN Clustering algorithm"
      ]
    },
    {
      "cell_type": "markdown",
      "metadata": {
        "id": "StC0mLcXsuKD"
      },
      "source": [
        "Loading numpy and DBSCAN function from sklearn"
      ]
    },
    {
      "cell_type": "code",
      "metadata": {
        "id": "N_QYT24GskvH"
      },
      "source": [
        "from sklearn.cluster import DBSCAN\n",
        "import numpy as np\n"
      ],
      "execution_count": 1,
      "outputs": []
    },
    {
      "cell_type": "markdown",
      "metadata": {
        "id": "bNt24QWys3cJ"
      },
      "source": [
        "Creating input array"
      ]
    },
    {
      "cell_type": "code",
      "metadata": {
        "id": "V1jqogHFs0Sz"
      },
      "source": [
        "X = np.array([[1, 1], [1, 2], [1, 0],\n",
        "               [10, 3], [10, 4], [10, 1]])\n"
      ],
      "execution_count": 2,
      "outputs": []
    },
    {
      "cell_type": "markdown",
      "metadata": {
        "id": "IoL0HwC5tDTS"
      },
      "source": [
        "Calling DBSCAN algorithm"
      ]
    },
    {
      "cell_type": "code",
      "metadata": {
        "id": "BsRbfX_2s_W3",
        "outputId": "f33e16d1-9fe8-4d73-89f5-8146a236b4eb",
        "colab": {
          "base_uri": "https://localhost:8080/"
        }
      },
      "source": [
        "cluster = DBSCAN(eps=3, min_samples=2).fit(X)\n",
        "cluster.labels_\n",
        "\n",
        "\n"
      ],
      "execution_count": 3,
      "outputs": [
        {
          "output_type": "execute_result",
          "data": {
            "text/plain": [
              "array([0, 0, 0, 1, 1, 1])"
            ]
          },
          "metadata": {
            "tags": []
          },
          "execution_count": 3
        }
      ]
    },
    {
      "cell_type": "markdown",
      "metadata": {
        "id": "ddh4huGOtLKQ"
      },
      "source": [
        ""
      ]
    }
  ]
}