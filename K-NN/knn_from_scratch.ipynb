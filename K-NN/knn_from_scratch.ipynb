{
  "nbformat": 4,
  "nbformat_minor": 0,
  "metadata": {
    "colab": {
      "name": "K-NN.ipynb",
      "provenance": []
    },
    "kernelspec": {
      "name": "python3",
      "display_name": "Python 3"
    }
  },
  "cells": [
    {
      "cell_type": "markdown",
      "metadata": {
        "id": "PFTRw40fI0a-"
      },
      "source": [
        "## **K-Nearest Neighbour Algorithm from Scratch**\n",
        "\n",
        "K-NN is a simplest Machine Learning algorithm based on Supervised Learning. <br>It is mainly used for classification purpose.<br>\n",
        "It classifies new data point based on the similarity with available data points.\n",
        "<br>That is, it takes into account k nearest neighbours of the new data point based on Euclidean distance and classify the new data point to the class that dominates among the neighbours."
      ]
    },
    {
      "cell_type": "code",
      "metadata": {
        "id": "ups0Snc1IxDZ"
      },
      "source": [
        "from math import sqrt"
      ],
      "execution_count": 1,
      "outputs": []
    },
    {
      "cell_type": "markdown",
      "metadata": {
        "id": "IRVGRng4IyE8"
      },
      "source": [
        "Calculating Euclidean distance between two vectors\n"
      ]
    },
    {
      "cell_type": "code",
      "metadata": {
        "id": "pdPAxJlhMB2Q"
      },
      "source": [
        "def euclid_dist(pt1,pt2):\n",
        "    dist = 0.0\n",
        "    for i in range(len(pt2) - 1):\n",
        "        dist += (pt1[i] - pt2[i])**2\n",
        "    return sqrt(dist)"
      ],
      "execution_count": 2,
      "outputs": []
    },
    {
      "cell_type": "markdown",
      "metadata": {
        "id": "BIcOL_foMiuI"
      },
      "source": [
        "Finding similar neighbours"
      ]
    },
    {
      "cell_type": "code",
      "metadata": {
        "id": "envOgmJ9MjxD"
      },
      "source": [
        "def find_neighbours(labeled,test,num_neighbours):\n",
        "    distances = list()\n",
        "    for row in labeled:\n",
        "        dist = euclid_dist(test,row)\n",
        "        distances.append((row, dist))\n",
        "    distances.sort(key=lambda tup: tup[1])\n",
        "    neighbours = list()\n",
        "    for i in range(num_neighbours):\n",
        "        neighbours.append(distances[i][0])\n",
        "    return neighbours"
      ],
      "execution_count": 3,
      "outputs": []
    },
    {
      "cell_type": "markdown",
      "metadata": {
        "id": "8teiKwcmMqW_"
      },
      "source": [
        "Class Prediction"
      ]
    },
    {
      "cell_type": "code",
      "metadata": {
        "id": "UISDnBv4MudD"
      },
      "source": [
        "def predict(labeled, test, num_neighbours):\n",
        "    neighbours = find_neighbours(labeled, test, num_neighbours)\n",
        "    output = []\n",
        "    for i in range(len(neighbours)):\n",
        "        output.append(neighbours[i][-1])\n",
        "    prediction = max(set(output), key=output.count)\n",
        "    return prediction"
      ],
      "execution_count": 4,
      "outputs": []
    },
    {
      "cell_type": "markdown",
      "metadata": {
        "id": "GpEleMELM83L"
      },
      "source": [
        "Labeled Dataset: Each element in the dataset list indicates a point and its class (either 0 or 1)\n"
      ]
    },
    {
      "cell_type": "code",
      "metadata": {
        "id": "NKg3CAHpNA8A"
      },
      "source": [
        "dataset = [[0.0, 12.62075468696685, 1], [0.0, 2.1422404036883, 1],\n",
        "      [0.0, 5.847436127248756, 1], [0.0, 54.847436127248756, 1],\n",
        "      [0.0, 51.737063147901274, 1], [0.0, 53.176279168108486, 1],\n",
        "      [0.0, 53.17757209883375, 1], [0.0, 51.39600011716364, 1],\n",
        "      [0.0, 50.1422404036883, 1], [0.0, 52.62075468696685, 1],\n",
        "      [0.0, 50.755869670490256, 1], [0.0, 50.90377594831744, 1],\n",
        "      [0.0, 54.37412841034598, 1], [0.0, 54.011363929280066, 1],\n",
        "      [0.0, 51.42063736539424, 1], [0.0, 51.19243386833373, 1],\n",
        "      [0.0, 51.52077585359514, 1], [0.0, 53.06655235966885, 1],\n",
        "      [0.0, 35.20467413015333, 0], [0.0, 34.70137979254797, 0],\n",
        "      [0.0, 34.95913097899976, 0], [0.0, 33.51386347211003, 0],\n",
        "      [0.0, 34.90578034838777, 0], [0.0, 36.45967908517987, 0],\n",
        "      [0.0, 35.1935173747592, 0], [0.0, 34.76700804925268, 0],\n",
        "      [0.0, 36.959391693339946, 0], [0.0, 35.3153831427746, 0],\n",
        "      [0.0, 34.333809897886795, 0], [0.0, 35.02262353932812, 0],\n",
        "      [0.0, 32.60877101182937, 0], [0.0, 36.1824880193223, 0],\n",
        "      [0.0, 32.868404588480374, 0], [0.0, 26.55049568429958, 0],\n",
        "      [0.0, 26.636575103942395, 0], [0.0, 29.64518032548993, 0],\n",
        "      [0.0, 29.502205996775714, 0], [0.0, 29.952169396161153, 0],\n",
        "      [0.0, 25.954059914782555, 0], [0.0, 26.16682144559383, 0],\n",
        "      [0.0, 29.967474528839695, 0], [0.0, 25.14555015549128, 0],\n",
        "      [0.0, 28.623722270136415, 0], [0.0, 27.167068819202644, 0],\n",
        "      [0.0, 27.580718395307567, 0], [0.0, 28.68029545626884, 0],\n",
        "      [0.0, 28.45622913449376, 0], [0.0, 25.188981926334222, 0]]"
      ],
      "execution_count": 5,
      "outputs": []
    },
    {
      "cell_type": "markdown",
      "metadata": {
        "id": "IOWwRiwKNIIR"
      },
      "source": [
        "\n",
        "\n",
        "Dataset for testing\n"
      ]
    },
    {
      "cell_type": "code",
      "metadata": {
        "id": "cnxvtuc3NMA6"
      },
      "source": [
        "testset = [[0.0, 2.4059304724659], [0.0,50.4059304724659],[0.0, 54.09134070490489],\n",
        "      [0.0, 54.96528529764258], [0.0, 50.575138478266695],\n",
        "      [0.0, 50.00529098784652], [0.0, 54.157910727574524],\n",
        "      [0.0, 44.268021838685635], [0.0, 52.471127979293755],\n",
        "      [0.0, 51.88289209065183], [0.0, 52.14071350309344],\n",
        "      [0.0, 53.55142019995792], [0.0, 52.516295523242725],\n",
        "      [0.0, 54.41582960955924], [0.0, 50.873845144069094],\n",
        "      [0.0, 51.45922485640262], [0.0, 54.62653252902867],\n",
        "      [0.0, 35.790521145739795], [0.0, 34.79385667442588],\n",
        "      [0.0, 33.68594425049566], [0.0, 32.67619393600458],\n",
        "      [0.0, 33.04407029929096], [0.0, 32.523221351953126],\n",
        "      [0.0, 34.74683179822556], [0.0, 32.98873920990137],\n",
        "      [0.0, 32.80966768394495], [0.0, 36.39322454244312],\n",
        "      [0.0, 34.5374278668484], [0.0, 33.0724966999557],\n",
        "      [0.0, 36.24449781885768], [0.0, 36.2246154057399],\n",
        "      [0.0, 33.46929043161506], [0.0, 29.31014098117009],\n",
        "      [0.0, 29.702512985615787], [0.0, 25.87098615906068],\n",
        "      [0.0, 25.982768149354712], [0.0, 27.102110477588766],\n",
        "      [0.0, 27.785237952408664], [0.0, 27.201529235930067],\n",
        "      [0.0, 27.18252911510451], [0.0, 29.040426967752758],\n",
        "      [0.0, 26.776218764661735], [0.0, 27.50501791678857],\n",
        "      [0.0, 28.812128917199324], [0.0, 29.03394050478254],\n",
        "      [0.0, 27.531853013570938], [0.0, 27.040593018802873]]"
      ],
      "execution_count": 6,
      "outputs": []
    },
    {
      "cell_type": "markdown",
      "metadata": {
        "id": "rmKOIMCoNOtS"
      },
      "source": [
        "Predicting class of each data point in the testset"
      ]
    },
    {
      "cell_type": "code",
      "metadata": {
        "id": "kYLKSl_dNYSb"
      },
      "source": [
        "classified_testset = testset\n",
        "for i in range(len(testset)):\n",
        "    prediction = predict(dataset, testset[i], 5)\n",
        "    classified_testset[i].append(prediction)"
      ],
      "execution_count": 7,
      "outputs": []
    },
    {
      "cell_type": "markdown",
      "metadata": {
        "id": "1J0xhVYUNcHe"
      },
      "source": [
        "\n",
        "\n",
        "Testset after classification\n"
      ]
    },
    {
      "cell_type": "code",
      "metadata": {
        "id": "mOLCM2wtNhn5",
        "outputId": "0e8c60cb-616b-4d83-f805-dfb523c8a398",
        "colab": {
          "base_uri": "https://localhost:8080/",
          "height": 833
        }
      },
      "source": [
        "print(*classified_testset ,sep=\"\\n\")"
      ],
      "execution_count": 8,
      "outputs": [
        {
          "output_type": "stream",
          "text": [
            "[0.0, 2.4059304724659, 1]\n",
            "[0.0, 50.4059304724659, 1]\n",
            "[0.0, 54.09134070490489, 1]\n",
            "[0.0, 54.96528529764258, 1]\n",
            "[0.0, 50.575138478266695, 1]\n",
            "[0.0, 50.00529098784652, 1]\n",
            "[0.0, 54.157910727574524, 1]\n",
            "[0.0, 44.268021838685634, 1]\n",
            "[0.0, 52.471127979293755, 1]\n",
            "[0.0, 51.88289209065183, 1]\n",
            "[0.0, 52.14071350309344, 1]\n",
            "[0.0, 53.55142019995792, 1]\n",
            "[0.0, 52.516295523242725, 1]\n",
            "[0.0, 54.41582960955924, 1]\n",
            "[0.0, 50.873845144069094, 1]\n",
            "[0.0, 51.45922485640262, 1]\n",
            "[0.0, 54.62653252902867, 1]\n",
            "[0.0, 35.790521145739795, 0]\n",
            "[0.0, 34.79385667442588, 0]\n",
            "[0.0, 33.68594425049566, 0]\n",
            "[0.0, 32.67619393600458, 0]\n",
            "[0.0, 33.04407029929096, 0]\n",
            "[0.0, 32.523221351953126, 0]\n",
            "[0.0, 34.74683179822556, 0]\n",
            "[0.0, 32.98873920990137, 0]\n",
            "[0.0, 32.80966768394495, 0]\n",
            "[0.0, 36.39322454244312, 0]\n",
            "[0.0, 34.5374278668484, 0]\n",
            "[0.0, 33.0724966999557, 0]\n",
            "[0.0, 36.24449781885768, 0]\n",
            "[0.0, 36.2246154057399, 0]\n",
            "[0.0, 33.46929043161506, 0]\n",
            "[0.0, 29.31014098117009, 0]\n",
            "[0.0, 29.702512985615787, 0]\n",
            "[0.0, 25.87098615906068, 0]\n",
            "[0.0, 25.982768149354712, 0]\n",
            "[0.0, 27.102110477588766, 0]\n",
            "[0.0, 27.785237952408664, 0]\n",
            "[0.0, 27.201529235930067, 0]\n",
            "[0.0, 27.18252911510451, 0]\n",
            "[0.0, 29.040426967752758, 0]\n",
            "[0.0, 26.776218764661735, 0]\n",
            "[0.0, 27.50501791678857, 0]\n",
            "[0.0, 28.812128917199324, 0]\n",
            "[0.0, 29.03394050478254, 0]\n",
            "[0.0, 27.531853013570938, 0]\n",
            "[0.0, 27.040593018802873, 0]\n"
          ],
          "name": "stdout"
        }
      ]
    }
  ]
}